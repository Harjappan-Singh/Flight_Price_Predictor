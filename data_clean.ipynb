{
 "cells": [
  {
   "cell_type": "markdown",
   "metadata": {},
   "source": [
    "## Imports"
   ]
  },
  {
   "cell_type": "code",
   "execution_count": 12,
   "metadata": {},
   "outputs": [],
   "source": [
    "import numpy as np\n",
    "import pandas as pd\n",
    "import seaborn as sns\n",
    "import matplotlib.pyplot as plt\n",
    "from matplotlib.pyplot import figure"
   ]
  },
  {
   "cell_type": "markdown",
   "metadata": {},
   "source": [
    "# Read in Data"
   ]
  },
  {
   "cell_type": "code",
   "execution_count": 13,
   "metadata": {},
   "outputs": [],
   "source": [
    "data= pd.read_csv(\"/Users/harjappansingh/Documents/College/Junior Year/Data Science/CA 2/flight_details.csv\")"
   ]
  },
  {
   "cell_type": "code",
   "execution_count": 14,
   "metadata": {},
   "outputs": [
    {
     "name": "stdout",
     "output_type": "stream",
     "text": [
      "<class 'pandas.core.frame.DataFrame'>\n",
      "RangeIndex: 1480 entries, 0 to 1479\n",
      "Data columns (total 7 columns):\n",
      " #   Column          Non-Null Count  Dtype \n",
      "---  ------          --------------  ----- \n",
      " 0   Date            1480 non-null   object\n",
      " 1   Flight Name     1480 non-null   object\n",
      " 2   Stops           1480 non-null   object\n",
      " 3   Price           1480 non-null   object\n",
      " 4   Duration        1480 non-null   object\n",
      " 5   Departure-Time  1480 non-null   object\n",
      " 6   Arrival-Time    1480 non-null   object\n",
      "dtypes: object(7)\n",
      "memory usage: 81.1+ KB\n"
     ]
    },
    {
     "data": {
      "text/html": [
       "<div>\n",
       "<style scoped>\n",
       "    .dataframe tbody tr th:only-of-type {\n",
       "        vertical-align: middle;\n",
       "    }\n",
       "\n",
       "    .dataframe tbody tr th {\n",
       "        vertical-align: top;\n",
       "    }\n",
       "\n",
       "    .dataframe thead th {\n",
       "        text-align: right;\n",
       "    }\n",
       "</style>\n",
       "<table border=\"1\" class=\"dataframe\">\n",
       "  <thead>\n",
       "    <tr style=\"text-align: right;\">\n",
       "      <th></th>\n",
       "      <th>Date</th>\n",
       "      <th>Flight Name</th>\n",
       "      <th>Stops</th>\n",
       "      <th>Price</th>\n",
       "      <th>Duration</th>\n",
       "      <th>Departure-Time</th>\n",
       "      <th>Arrival-Time</th>\n",
       "    </tr>\n",
       "  </thead>\n",
       "  <tbody>\n",
       "    <tr>\n",
       "      <th>0</th>\n",
       "      <td>2024-10-30</td>\n",
       "      <td>Aer Lingus, Cathay Pacific</td>\n",
       "      <td>2 stops</td>\n",
       "      <td>€893</td>\n",
       "      <td>40h 35m</td>\n",
       "      <td>17:15</td>\n",
       "      <td>20:50+2</td>\n",
       "    </tr>\n",
       "    <tr>\n",
       "      <th>1</th>\n",
       "      <td>2024-10-30</td>\n",
       "      <td>Aer Lingus, Cathay Pacific</td>\n",
       "      <td>2 stops</td>\n",
       "      <td>€893</td>\n",
       "      <td>40h 35m</td>\n",
       "      <td>17:15</td>\n",
       "      <td>20:50+2</td>\n",
       "    </tr>\n",
       "    <tr>\n",
       "      <th>2</th>\n",
       "      <td>2024-10-30</td>\n",
       "      <td>SWISS</td>\n",
       "      <td>2 stops</td>\n",
       "      <td>€1,322</td>\n",
       "      <td>25h 35m</td>\n",
       "      <td>18:40</td>\n",
       "      <td>07:15+2</td>\n",
       "    </tr>\n",
       "    <tr>\n",
       "      <th>3</th>\n",
       "      <td>2024-10-30</td>\n",
       "      <td>Qantas Airways</td>\n",
       "      <td>1 stop</td>\n",
       "      <td>€1,839</td>\n",
       "      <td>23h 10m</td>\n",
       "      <td>20:50</td>\n",
       "      <td>07:00+2</td>\n",
       "    </tr>\n",
       "    <tr>\n",
       "      <th>4</th>\n",
       "      <td>2024-10-30</td>\n",
       "      <td>Air France</td>\n",
       "      <td>2 stops</td>\n",
       "      <td>€1,163</td>\n",
       "      <td>33h 55m</td>\n",
       "      <td>16:40</td>\n",
       "      <td>13:35+2</td>\n",
       "    </tr>\n",
       "  </tbody>\n",
       "</table>\n",
       "</div>"
      ],
      "text/plain": [
       "         Date                 Flight Name    Stops   Price Duration  \\\n",
       "0  2024-10-30  Aer Lingus, Cathay Pacific  2 stops    €893  40h 35m   \n",
       "1  2024-10-30  Aer Lingus, Cathay Pacific  2 stops    €893  40h 35m   \n",
       "2  2024-10-30                       SWISS  2 stops  €1,322  25h 35m   \n",
       "3  2024-10-30              Qantas Airways   1 stop  €1,839  23h 10m   \n",
       "4  2024-10-30                  Air France  2 stops  €1,163  33h 55m   \n",
       "\n",
       "  Departure-Time Arrival-Time  \n",
       "0          17:15      20:50+2  \n",
       "1          17:15      20:50+2  \n",
       "2          18:40      07:15+2  \n",
       "3          20:50      07:00+2  \n",
       "4          16:40      13:35+2  "
      ]
     },
     "execution_count": 14,
     "metadata": {},
     "output_type": "execute_result"
    }
   ],
   "source": [
    "\n",
    "data.info()\n",
    "data.head()"
   ]
  },
  {
   "cell_type": "code",
   "execution_count": 15,
   "metadata": {},
   "outputs": [
    {
     "name": "stdout",
     "output_type": "stream",
     "text": [
      "0    2024-10-30\n",
      "1    2024-10-30\n",
      "2    2024-10-30\n",
      "3    2024-10-30\n",
      "4    2024-10-30\n",
      "Name: Date, dtype: object\n"
     ]
    }
   ],
   "source": [
    "# Step 1: convert the 'Date' column to string format if needed\n",
    "# not strictly necessary as it's already an object, but good to ensure consistency\n",
    "data['Date'] = data['Date'].astype(str)\n",
    "print(data['Date'].head())  # checking the first few values to confirm"
   ]
  },
  {
   "cell_type": "code",
   "execution_count": 16,
   "metadata": {},
   "outputs": [
    {
     "name": "stdout",
     "output_type": "stream",
     "text": [
      "Airline\n",
      "Other Airlines      378\n",
      "Qantas Airways      190\n",
      "KLM                 189\n",
      "Emirates            182\n",
      "British Airways     114\n",
      "Turkish Airlines    112\n",
      "Air France          104\n",
      "Etihad Airways       83\n",
      "Finnair              66\n",
      "SWISS                62\n",
      "Name: count, dtype: int64\n"
     ]
    }
   ],
   "source": [
    "# Step 2: create a new column 'Airline' with only the first airline in 'Flight Name'\n",
    "# check if the first airline is in the given list; if not, label it as 'Other Airlines'\n",
    "top_airlines = ['Qatar', 'Air France', 'British Airways', 'Emirates', \n",
    "                'Etihad Airways', 'Finnair', 'KLM', 'Turkish Airlines', \n",
    "                'Qantas Airways', 'SWISS']\n",
    "\n",
    "# split flight name and check the first airline\n",
    "data['Airline'] = data['Flight Name'].apply(lambda x: x.split(',')[0].strip())\n",
    "data['Airline'] = data['Airline'].apply(lambda x: x if x in top_airlines else 'Other Airlines')\n",
    "print(data['Airline'].value_counts())  # checking the distribution of airlines\n"
   ]
  },
  {
   "cell_type": "code",
   "execution_count": 17,
   "metadata": {},
   "outputs": [
    {
     "name": "stdout",
     "output_type": "stream",
     "text": [
      "Stops\n",
      "2    922\n",
      "1    368\n",
      "3    190\n",
      "Name: count, dtype: int64\n"
     ]
    }
   ],
   "source": [
    "# Step 3: convert 'Stops' from \"x stops\" to an integer value\n",
    "# if it says \"non-stop,\" assign 0\n",
    "data['Stops'] = data['Stops'].apply(lambda x: 0 if x.lower() == 'non-stop' else int(x.split()[0]))\n",
    "print(data['Stops'].value_counts())  # checking the distribution of stops\n"
   ]
  },
  {
   "cell_type": "code",
   "execution_count": 18,
   "metadata": {},
   "outputs": [
    {
     "name": "stdout",
     "output_type": "stream",
     "text": [
      "0     893.0\n",
      "1     893.0\n",
      "2    1322.0\n",
      "3    1839.0\n",
      "4    1163.0\n",
      "Name: Price, dtype: float64\n"
     ]
    }
   ],
   "source": [
    "# Step 4: remove special characters in 'Price' and convert to float\n",
    "data['Price'] = data['Price'].str.replace('€', '').str.replace(',', '').astype(float)\n",
    "print(data['Price'].head())  # checking the first few values\n"
   ]
  },
  {
   "cell_type": "code",
   "execution_count": 19,
   "metadata": {},
   "outputs": [
    {
     "name": "stdout",
     "output_type": "stream",
     "text": [
      "0    40.58\n",
      "1    40.58\n",
      "2    25.58\n",
      "3    23.17\n",
      "4    33.92\n",
      "Name: Duration, dtype: float64\n"
     ]
    }
   ],
   "source": [
    "# Step 5: convert 'Duration' to total hours with only two decimal places\n",
    "# splitting by 'h' and 'm', calculating the total time in hours, and rounding to 2 decimals\n",
    "def duration_to_hours(duration):\n",
    "    hours = int(duration.split('h')[0].strip())\n",
    "    minutes = int(duration.split('h')[1].split('m')[0].strip())\n",
    "    return round(hours + minutes / 60, 2)\n",
    "\n",
    "data['Duration'] = data['Duration'].apply(duration_to_hours)\n",
    "print(data['Duration'].head())  # checking the converted durations with 2 decimals\n"
   ]
  },
  {
   "cell_type": "code",
   "execution_count": 20,
   "metadata": {},
   "outputs": [
    {
     "name": "stdout",
     "output_type": "stream",
     "text": [
      "Index(['Date', 'Flight Name', 'Stops', 'Price', 'Duration', 'Departure-Time',\n",
      "       'Airline'],\n",
      "      dtype='object')\n"
     ]
    }
   ],
   "source": [
    "# Step 6: keep 'Departure-Time' and drop 'Arrival-Time' as it can be derived\n",
    "data.drop(columns=['Arrival-Time'], inplace=True)\n",
    "print(data.columns)  # checking the remaining columns\n"
   ]
  },
  {
   "cell_type": "code",
   "execution_count": 22,
   "metadata": {},
   "outputs": [
    {
     "name": "stdout",
     "output_type": "stream",
     "text": [
      "Index(['Date', 'Stops', 'Price', 'Duration', 'Departure-Time', 'Airline'], dtype='object')\n"
     ]
    }
   ],
   "source": [
    "# Step 7: drop the 'Flight Name' column as it's no longer needed\n",
    "data.drop(columns=['Flight Name'], inplace=True)\n",
    "print(data.columns)  # checking the remaining columns\n"
   ]
  },
  {
   "cell_type": "code",
   "execution_count": 21,
   "metadata": {},
   "outputs": [
    {
     "name": "stdout",
     "output_type": "stream",
     "text": [
      "<class 'pandas.core.frame.DataFrame'>\n",
      "RangeIndex: 1480 entries, 0 to 1479\n",
      "Data columns (total 7 columns):\n",
      " #   Column          Non-Null Count  Dtype  \n",
      "---  ------          --------------  -----  \n",
      " 0   Date            1480 non-null   object \n",
      " 1   Flight Name     1480 non-null   object \n",
      " 2   Stops           1480 non-null   int64  \n",
      " 3   Price           1480 non-null   float64\n",
      " 4   Duration        1480 non-null   float64\n",
      " 5   Departure-Time  1480 non-null   object \n",
      " 6   Airline         1480 non-null   object \n",
      "dtypes: float64(2), int64(1), object(4)\n",
      "memory usage: 81.1+ KB\n",
      "None\n",
      "         Date                 Flight Name  Stops   Price  Duration  \\\n",
      "0  2024-10-30  Aer Lingus, Cathay Pacific      2   893.0     40.58   \n",
      "1  2024-10-30  Aer Lingus, Cathay Pacific      2   893.0     40.58   \n",
      "2  2024-10-30                       SWISS      2  1322.0     25.58   \n",
      "3  2024-10-30              Qantas Airways      1  1839.0     23.17   \n",
      "4  2024-10-30                  Air France      2  1163.0     33.92   \n",
      "\n",
      "  Departure-Time         Airline  \n",
      "0          17:15  Other Airlines  \n",
      "1          17:15  Other Airlines  \n",
      "2          18:40           SWISS  \n",
      "3          20:50  Qantas Airways  \n",
      "4          16:40      Air France  \n"
     ]
    }
   ],
   "source": [
    "# checking the cleaned dataset\n",
    "print(data.info())\n",
    "print(data.head())\n"
   ]
  }
 ],
 "metadata": {
  "kernelspec": {
   "display_name": "base",
   "language": "python",
   "name": "python3"
  },
  "language_info": {
   "codemirror_mode": {
    "name": "ipython",
    "version": 3
   },
   "file_extension": ".py",
   "mimetype": "text/x-python",
   "name": "python",
   "nbconvert_exporter": "python",
   "pygments_lexer": "ipython3",
   "version": "3.12.4"
  }
 },
 "nbformat": 4,
 "nbformat_minor": 2
}
