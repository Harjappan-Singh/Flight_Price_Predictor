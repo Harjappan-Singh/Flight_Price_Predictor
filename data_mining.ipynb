{
 "cells": [
  {
   "cell_type": "markdown",
   "metadata": {},
   "source": [
    "**Getting data for below scenario:**\n",
    "\n",
    "- Flights from 10th Oct (departure) - 5th Jan\n",
    "- Adult 1 Passenger only\n",
    "- Economy\n",
    "- One way"
   ]
  },
  {
   "cell_type": "code",
   "execution_count": 1,
   "metadata": {},
   "outputs": [],
   "source": [
    "from bs4 import BeautifulSoup\n",
    "import pandas as pd\n",
    "import matplotlib.pyplot as plt\n",
    "import numpy as np"
   ]
  },
  {
   "cell_type": "code",
   "execution_count": 2,
   "metadata": {},
   "outputs": [],
   "source": [
    "from selenium import webdriver\n",
    "from selenium.webdriver import Chrome"
   ]
  },
  {
   "cell_type": "code",
   "execution_count": 3,
   "metadata": {},
   "outputs": [],
   "source": [
    "driver = Chrome()\n",
    "driver.get('https://www.kayak.ie/flights/DUB-LHR/2024-12-25?sort=bestflight_a')"
   ]
  },
  {
   "cell_type": "code",
   "execution_count": 4,
   "metadata": {},
   "outputs": [],
   "source": [
    "soup = BeautifulSoup(driver.page_source, 'html.parser')"
   ]
  },
  {
   "cell_type": "code",
   "execution_count": null,
   "metadata": {},
   "outputs": [],
   "source": [
    "'''\n",
    "flight_details = []\n",
    "for item in soup('div'):\n",
    "    try:\n",
    "        # print(item['class'][0])\n",
    "        if item['class'][0] == \"J0g6-operator-text\":\n",
    "            flight_details.append([item.contents[0]])\n",
    "    except:\n",
    "        pass\n",
    "\n",
    "print(flight_details)\n",
    "#<span class=\"JWEO-stops-text JWEO-mod-warning\">2 stops</span>\n",
    "for item in soup('span'):\n",
    "    try:\n",
    "        # print(item['class'][0])\n",
    "        if item['class'][0] == \"JWEO-stops-text\":\n",
    "            flight_details.append([item.contents[0]])\n",
    "    except:\n",
    "        pass\n",
    "\n",
    "print(flight_details)\n",
    "'''"
   ]
  },
  {
   "cell_type": "code",
   "execution_count": 6,
   "metadata": {},
   "outputs": [],
   "source": [
    "# print(soup)\n",
    "# <div class=\"J0g6-operator-text\">British Airways</div>\n",
    "\n",
    "# flight container:class = yuAt yuAt-pres-rounded yuAt-mod-box-shadow\n",
    "\n",
    "# price element <div class=\"f8F1-price-text\">€333</div>\n",
    "\n",
    "# duration element: <div class=\"vmXl vmXl-mod-variant-default\">23h 40m</div>\n",
    "\n",
    "#<div class=\"vmXl vmXl-mod-variant-large\"><span>14:35</span><span class=\"aOlM\"> – </span><span>14:15<sup class=\"VY2U-adendum\" title=\"Flight lands the next day\">+1</sup></span></div>\n",
    "\n",
    "flight_details = []\n",
    "flight_containers = soup.findAll('div', class_=\"yuAt yuAt-pres-rounded yuAt-mod-box-shadow\")\n",
    "for item in flight_containers:\n",
    "    try:\n",
    "        flight_name = item.find('div', class_=\"J0g6-operator-text\").get_text(strip = True)\n",
    "\n",
    "        stops = item.find('span', class_=\"JWEO-stops-text\").get_text(strip = True)\n",
    "\n",
    "        price = item.find('div', class_=\"f8F1-price-text\").get_text(strip = True)\n",
    "\n",
    "        #Extracting duration by skipping time and stops\n",
    "        duration = None\n",
    "        divs = item.findAll('div', class_=\"vmXl vmXl-mod-variant-default\")\n",
    "\n",
    "        for div in divs:\n",
    "            if not div.find('span'):  # If there are no spans inside the div, it's likely the duration\n",
    "                duration = div.get_text(strip=True)\n",
    "                break  # Found the duration, no need to search further\n",
    "\n",
    "         # Extracting departure and arrival times\n",
    "        times_div = item.find('div', class_=\"vmXl vmXl-mod-variant-large\")\n",
    "        if times_div:\n",
    "            times = times_div.get_text(strip=True).split(\"–\")\n",
    "            departure_time = times[0].strip() if len(times) > 0 else \"Departure not found\"\n",
    "            arrival_time = times[1].strip() if len(times) > 1 else \"Arrival not found\"\n",
    "        else:\n",
    "            departure_time, arrival_time = \"Departure not found\", \"Arrival not found\"\n",
    "\n",
    "        flight_details.append([flight_name, stops, price, duration, departure_time, arrival_time])\n",
    "        \n",
    "    except:\n",
    "        pass\n",
    "\n",
    "\n"
   ]
  },
  {
   "cell_type": "markdown",
   "metadata": {},
   "source": [
    "## Issues\n",
    "1. Multiple elements sharing same class making it hard to extract relevant info\n",
    "    eg.  class=\"vmXl vmXl-mod-variant-default\" is being shared with start time of flight, duration and number of stops."
   ]
  },
  {
   "cell_type": "markdown",
   "metadata": {},
   "source": [
    "# Comments #\n",
    "- +1 in flight arrival time indicates that the flight lands on the next day.\n"
   ]
  }
 ],
 "metadata": {
  "kernelspec": {
   "display_name": "base",
   "language": "python",
   "name": "python3"
  },
  "language_info": {
   "codemirror_mode": {
    "name": "ipython",
    "version": 3
   },
   "file_extension": ".py",
   "mimetype": "text/x-python",
   "name": "python",
   "nbconvert_exporter": "python",
   "pygments_lexer": "ipython3",
   "version": "3.12.4"
  }
 },
 "nbformat": 4,
 "nbformat_minor": 2
}
