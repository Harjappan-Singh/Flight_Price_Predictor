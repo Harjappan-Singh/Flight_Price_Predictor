{
 "cells": [
  {
   "cell_type": "markdown",
   "metadata": {},
   "source": [
    "## Variables\n",
    "1. **Date** -> Categorical,\n",
    "2. **Flight Name** -> Categorical,\n",
    "3. **Stops** -> Numerical,\n",
    "4. **Price** -> Numerical,\n",
    "5. **Duration** -> Numerical,\n",
    "6. **Departure Time** -> Categorical,\n",
    "7. **Arrival Time** -> Categorical"
   ]
  },
  {
   "cell_type": "markdown",
   "metadata": {},
   "source": [
    "# Possible cleaning\n",
    "1. Converting Stops to numerical (replacing \"direct\" with 0 stops)\n",
    "2. Extracting price (string) into numerical value \n",
    "3. Converting duration into hrs (1h 30m -> 1.5)\n",
    "\n",
    "# Question\n",
    "4. Only flights on 25th Dec have multiple stops, should I split those 2 flights lets say [SunExpress, Turkish Airlines] into another column with flight1, flight2"
   ]
  }
 ],
 "metadata": {
  "language_info": {
   "name": "python"
  }
 },
 "nbformat": 4,
 "nbformat_minor": 2
}
